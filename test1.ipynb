{
 "cells": [
  {
   "cell_type": "code",
   "execution_count": 1,
   "id": "1ddc6f04",
   "metadata": {},
   "outputs": [],
   "source": [
    "import numpy as np\n",
    "import cv2"
   ]
  },
  {
   "cell_type": "code",
   "execution_count": 2,
   "id": "a066884b",
   "metadata": {},
   "outputs": [],
   "source": [
    "img =  cv2.imread('amigas.jpg')\n",
    "cv2.imshow('image', img)\n",
    "cv2.waitKey()\n",
    "cv2.destroyAllWindows()"
   ]
  },
  {
   "cell_type": "code",
   "execution_count": 3,
   "id": "8d728f4c",
   "metadata": {},
   "outputs": [],
   "source": [
    "haar = cv2.CascadeClassifier('haarcascade_frontalface_default.xml')"
   ]
  },
  {
   "cell_type": "code",
   "execution_count": null,
   "id": "69a64008",
   "metadata": {},
   "outputs": [],
   "source": [
    "#para no alterar la imagen original\n",
    "image = img.copy()\n",
    "#convertir a escala de grises\n",
    "gray = cv2.cvtColor(img,cv2.COLOR_BGR2GRAY)\n",
    "#aplicar escala\n",
    "face_rect = haar.detectMultiScale(gray,1.3,5)\n",
    "#dibujar\n",
    "for x,y,w,h in face_rect:\n",
    "    cv2.rectangle(image,(x,y),(x+w, y+h),(0,255,0),2)\n",
    "    \n",
    "cv2.imshow('detectando caras', image)\n",
    "#detecta solo las caras frontales\n",
    "cv2.waitKey()\n",
    "cv2.destroyAllWindows()"
   ]
  },
  {
   "cell_type": "code",
   "execution_count": null,
   "id": "83c2155d",
   "metadata": {},
   "outputs": [],
   "source": [
    "#detecta que son 4 caras\n",
    "print(face_rect)"
   ]
  },
  {
   "cell_type": "code",
   "execution_count": null,
   "id": "53b2837f",
   "metadata": {},
   "outputs": [],
   "source": [
    "######CON VIDEO\n",
    "cap = cv2.VideoCapture('3.mp4')\n",
    "while True:\n",
    "    ret, frame = cap.read()\n",
    "    if ret == False:\n",
    "        break\n",
    "        \n",
    "    image = frame.copy()  \n",
    "    gray = cv2.cvtColor(image,cv2.COLOR_BGR2GRAY)\n",
    "    #aplicar escala\n",
    "    face_rect = haar.detectMultiScale(gray,1.3,5)\n",
    "    #dibujar\n",
    "    for x,y,w,h in face_rect:\n",
    "        cv2.rectangle(image,(x,y),(x+w, y+h),(0,255,0),2)\n",
    "            \n",
    "    cv2.imshow('videoooo',image)\n",
    "    \n",
    "    if cv2.waitKey(10) == 27:\n",
    "        break\n",
    "\n",
    "cap.release()\n",
    "cv2.destroyAllWindows()"
   ]
  },
  {
   "cell_type": "code",
   "execution_count": null,
   "id": "e56555db",
   "metadata": {},
   "outputs": [],
   "source": []
  }
 ],
 "metadata": {
  "kernelspec": {
   "display_name": "Python 3 (ipykernel)",
   "language": "python",
   "name": "python3"
  },
  "language_info": {
   "codemirror_mode": {
    "name": "ipython",
    "version": 3
   },
   "file_extension": ".py",
   "mimetype": "text/x-python",
   "name": "python",
   "nbconvert_exporter": "python",
   "pygments_lexer": "ipython3",
   "version": "3.10.9"
  }
 },
 "nbformat": 4,
 "nbformat_minor": 5
}
